{
 "cells": [
  {
   "cell_type": "code",
   "execution_count": null,
   "metadata": {},
   "outputs": [],
   "source": [
    "import numpy\n",
    "import os\n",
    "import matplotlib.pyplot as plt\n",
    "import librosa\n",
    "import librosa.display\n",
    "import soundfile as sf\n",
    "import IPython.display as ipd\n",
    "import numpy as np"
   ]
  },
  {
   "cell_type": "code",
   "execution_count": null,
   "metadata": {},
   "outputs": [],
   "source": [
    "#list files in directory ./audio\n",
    "l = []\n",
    "for file in os.listdir('./audio'):\n",
    "    l.append(file)\n",
    "tone = [f for f in l if 'tone' in f]\n",
    "chirp = [f for f in l if 'chirp' in f]\n",
    "l"
   ]
  },
  {
   "cell_type": "code",
   "execution_count": null,
   "metadata": {},
   "outputs": [],
   "source": [
    "chirp_1000 = [f for f in chirp if '1000' in f][0]\n",
    "y1, sr1 = librosa.load(f'./audio/{chirp_1000}', sr=None)\n",
    "\n",
    "\n",
    "target_sr = 22050\n",
    "y_play = librosa.resample(y1, orig_sr=sr1, target_sr=target_sr,\n",
    "                          res_type=\"kaiser_fast\")        # fast + OK quality\n",
    "\n",
    "# listen\n",
    "ipd.Audio(y_play, rate=target_sr)"
   ]
  },
  {
   "cell_type": "code",
   "execution_count": null,
   "metadata": {},
   "outputs": [],
   "source": [
    "chirp_5000 = [f for f in chirp if '5000' in f][0]\n",
    "y5, sr5 = librosa.load(f'./audio/{chirp_5000}', sr=None)\n",
    "\n",
    "target_sr = 22050\n",
    "y_play = librosa.resample(y5, orig_sr=sr5, target_sr=target_sr,\n",
    "                          res_type=\"kaiser_fast\")        # fast + OK quality\n",
    "\n",
    "ipd.Audio(y_play, rate=target_sr)"
   ]
  },
  {
   "cell_type": "code",
   "execution_count": null,
   "metadata": {},
   "outputs": [],
   "source": [
    "bg = [f for f in l if 'background_mic_diff_5000Hz' in f][-1]\n",
    "y_bg, sr_bg = librosa.load(f'./audio/{bg}', sr=None)\n",
    "\n",
    "target_sr = 22050\n",
    "y_play = librosa.resample(y_bg, orig_sr=sr_bg, target_sr=target_sr,\n",
    "                          res_type=\"kaiser_fast\")        # fast + OK quality\n",
    "ipd.Audio(y_play, rate=target_sr)"
   ]
  },
  {
   "cell_type": "code",
   "execution_count": null,
   "metadata": {},
   "outputs": [],
   "source": [
    "#plot the waveform of the chirp files and their spectrogram\n",
    "plt.figure(figsize=(10, 2))\n",
    "librosa.display.waveshow(y_bg, sr=sr_bg)\n",
    "plt.title(\"background\")\n",
    "\n",
    "plt.figure(figsize=(10, 2))\n",
    "librosa.display.waveshow(y1, sr=sr1)\n",
    "plt.title(\"1 kHz SR chirp 300->500Hz\")\n",
    "\n",
    "plt.figure(figsize=(10, 2))\n",
    "librosa.display.waveshow(y5, sr=sr5)\n",
    "plt.title(\"5 kHz SR chirp 300->500Hz\")"
   ]
  },
  {
   "cell_type": "code",
   "execution_count": null,
   "metadata": {},
   "outputs": [],
   "source": [
    "S1 = librosa.feature.melspectrogram(y=y1, sr=sr1, fmax=1000)\n",
    "\n",
    "# Convert to dB\n",
    "S1_db = librosa.power_to_db(S1, ref=np.max)\n",
    "\n",
    "# Plot side by side\n",
    "plt.figure(figsize=(10, 4))\n",
    "\n",
    "plt.subplot(1, 1, 1)\n",
    "librosa.display.specshow(S1_db, x_axis='time', y_axis='mel', sr=sr1, fmax=1000, cmap='magma')\n",
    "plt.colorbar(format='%+2.0f dB')\n",
    "plt.title('Mel Spectrogram for 1 kHz SR chirp 300->500Hz (fmax=1000 Hz)')\n",
    "\n",
    "plt.tight_layout()\n",
    "plt.show()"
   ]
  },
  {
   "cell_type": "code",
   "execution_count": null,
   "metadata": {},
   "outputs": [],
   "source": [
    "# Compute Mel spectrograms with different fmax values\n",
    "S2 = librosa.feature.melspectrogram(y=y5, sr=sr5, fmax=5000)\n",
    "\n",
    "# Convert to dB\n",
    "S2_db = librosa.power_to_db(S2, ref=np.max)\n",
    "\n",
    "# Plot side by side\n",
    "plt.figure(figsize=(10, 4))\n",
    "\n",
    "plt.subplot(1, 1, 1)\n",
    "librosa.display.specshow(S2_db, x_axis='time', y_axis='mel', sr=sr5, fmax=5000, cmap='magma')\n",
    "plt.colorbar(format='%+2.0f dB')\n",
    "plt.title('Mel Spectrogram for 5 kHz SR chirp 300->500Hz (fmax=5000 Hz)')\n",
    "\n",
    "plt.tight_layout()\n",
    "plt.show()"
   ]
  },
  {
   "cell_type": "code",
   "execution_count": null,
   "metadata": {},
   "outputs": [],
   "source": [
    "S0 = librosa.feature.melspectrogram(y=y_bg, sr=sr_bg, fmax=5000)\n",
    "\n",
    "# Convert to dB\n",
    "S0_db = librosa.power_to_db(S0, ref=np.max)\n",
    "\n",
    "# Plot side by side\n",
    "plt.figure(figsize=(10, 4))\n",
    "\n",
    "plt.subplot(1, 1, 1)\n",
    "librosa.display.specshow(S0_db, x_axis='time', y_axis='mel', sr=sr1, fmax=5000, cmap='magma')\n",
    "plt.colorbar(format='%+2.0f dB')\n",
    "plt.title('Mel Spectrogram for background (fmax=5000 Hz)')\n",
    "\n",
    "plt.tight_layout()\n",
    "plt.show()"
   ]
  }
 ],
 "metadata": {
  "kernelspec": {
   "display_name": ".venv",
   "language": "python",
   "name": "python3"
  },
  "language_info": {
   "codemirror_mode": {
    "name": "ipython",
    "version": 3
   },
   "file_extension": ".py",
   "mimetype": "text/x-python",
   "name": "python",
   "nbconvert_exporter": "python",
   "pygments_lexer": "ipython3",
   "version": "3.10.16"
  }
 },
 "nbformat": 4,
 "nbformat_minor": 2
}
